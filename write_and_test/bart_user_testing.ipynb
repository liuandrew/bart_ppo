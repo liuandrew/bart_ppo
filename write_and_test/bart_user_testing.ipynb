{
 "cells": [
  {
   "cell_type": "code",
   "execution_count": 4,
   "id": "981f9403-5d6f-4f78-b336-e758d93dadbc",
   "metadata": {},
   "outputs": [],
   "source": [
    "import gymnasium as gym\n",
    "import gym_bart\n",
    "import numpy as np\n",
    "\n",
    "import ipywidgets as widgets\n",
    "from IPython.display import display\n",
    "from functools import partial\n",
    "\n",
    "%run ../env/gym_bart/envs/bart_env.py\n",
    "%run ../env/gym_bart/envs/bart_meta_env.py"
   ]
  },
  {
   "cell_type": "markdown",
   "id": "51eedeae-57b1-43fa-a0bf-ffb77546d07e",
   "metadata": {},
   "source": [
    "# Display"
   ]
  },
  {
   "cell_type": "code",
   "execution_count": 8,
   "id": "9528394d-8973-414b-b49c-e4cff299c79b",
   "metadata": {},
   "outputs": [],
   "source": [
    "class GameDisplay:\n",
    "    def __init__(self, env):\n",
    "        self.env = env\n",
    "        env.reset()\n",
    "        self.output = widgets.Output()\n",
    "\n",
    "        if self.env.toggle_task:\n",
    "            labels = ['Wait', 'Start/Stop', 'N/A']\n",
    "        else:\n",
    "            labels = ['Stop', 'Inflate', 'N/A']\n",
    "        self.buttons = []\n",
    "        for i, label in enumerate(labels):\n",
    "            button = widgets.Button(description=label)\n",
    "            button.on_click(self.generate_button_callback(i))\n",
    "            self.buttons.append(button)\n",
    "        self.widgets = [*self.buttons, self.output]\n",
    "\n",
    "    def update(self, output):\n",
    "        self.output.clear_output()\n",
    "        with self.output:\n",
    "            print(output)\n",
    "\n",
    "    def step(self, action):\n",
    "        obs, reward, terminated, truncated, info = self.env.step(action)\n",
    "        self.output.clear_output()\n",
    "        with self.output:\n",
    "            # print(f'action {action}')\n",
    "            # print(f'Observation {obs}, Reward {reward}, Done {done}')\n",
    "            print(f'Color: {self.env.current_color}, Size: {self.env.current_size:.2f}, Passive: {self.env.passive_trial}')\n",
    "            print(f'Observation: {obs}')\n",
    "            print(f'Reward: {reward}')\n",
    "\n",
    "            # print(done)\n",
    "            if terminated:\n",
    "                if reward > 0:\n",
    "                    print(f'Banked {reward}')\n",
    "                else:\n",
    "                    print(f'Popped! Reward {reward}')\n",
    "                print('Env Reset')\n",
    "                obs = self.env.reset()\n",
    "        return obs, reward, terminated, info\n",
    "\n",
    "    def generate_button_callback(self, action):\n",
    "        on_click = lambda b: self.step(action)\n",
    "        return on_click\n",
    "\n",
    "    def display(self):\n",
    "        display(*self.widgets)"
   ]
  },
  {
   "cell_type": "code",
   "execution_count": 22,
   "id": "3b098d5e-e324-48ad-816f-949f81e99512",
   "metadata": {},
   "outputs": [
    {
     "data": {
      "application/vnd.jupyter.widget-view+json": {
       "model_id": "d2a8c33723354782ae1c7148d036ba97",
       "version_major": 2,
       "version_minor": 0
      },
      "text/plain": [
       "Button(description='Wait', style=ButtonStyle())"
      ]
     },
     "metadata": {},
     "output_type": "display_data"
    },
    {
     "data": {
      "application/vnd.jupyter.widget-view+json": {
       "model_id": "fd77144ca04346deae677b665593b959",
       "version_major": 2,
       "version_minor": 0
      },
      "text/plain": [
       "Button(description='Start/Stop', style=ButtonStyle())"
      ]
     },
     "metadata": {},
     "output_type": "display_data"
    },
    {
     "data": {
      "application/vnd.jupyter.widget-view+json": {
       "model_id": "ed7ba432ef85436d805a79f0c4777006",
       "version_major": 2,
       "version_minor": 0
      },
      "text/plain": [
       "Button(description='N/A', style=ButtonStyle())"
      ]
     },
     "metadata": {},
     "output_type": "display_data"
    },
    {
     "data": {
      "application/vnd.jupyter.widget-view+json": {
       "model_id": "03f787e6a39d40cf8498b137c2b39b84",
       "version_major": 2,
       "version_minor": 0
      },
      "text/plain": [
       "Output()"
      ]
     },
     "metadata": {},
     "output_type": "display_data"
    }
   ],
   "source": [
    "# env = BartEnv(passive_trial_prob=0, fixed_reward_prob=0, random_start_wait=True)\n",
    "env = BartEnv(passive_trial_prob=0, fixed_reward_prob=0,\n",
    "              random_start_wait=False, fix_conditions=[{\n",
    "                  'color': 'orange',\n",
    "                  'delay': 3,\n",
    "                  'passive': True,\n",
    "                #   'size': 0.2\n",
    "              }], punish_passive=-0.1)\n",
    "out = GameDisplay(env)\n",
    "out.display()"
   ]
  },
  {
   "cell_type": "code",
   "execution_count": 11,
   "id": "dc7ee5ee",
   "metadata": {},
   "outputs": [
    {
     "data": {
      "application/vnd.jupyter.widget-view+json": {
       "model_id": "842487a65cf64e27ac1655e730cc4450",
       "version_major": 2,
       "version_minor": 0
      },
      "text/plain": [
       "Button(description='Wait', style=ButtonStyle())"
      ]
     },
     "metadata": {},
     "output_type": "display_data"
    },
    {
     "data": {
      "application/vnd.jupyter.widget-view+json": {
       "model_id": "74e2cf12fabc46d5a6af3f49250752c7",
       "version_major": 2,
       "version_minor": 0
      },
      "text/plain": [
       "Button(description='Start/Stop', style=ButtonStyle())"
      ]
     },
     "metadata": {},
     "output_type": "display_data"
    },
    {
     "data": {
      "application/vnd.jupyter.widget-view+json": {
       "model_id": "0c843e2288744c149ed9e29c075972df",
       "version_major": 2,
       "version_minor": 0
      },
      "text/plain": [
       "Button(description='N/A', style=ButtonStyle())"
      ]
     },
     "metadata": {},
     "output_type": "display_data"
    },
    {
     "data": {
      "application/vnd.jupyter.widget-view+json": {
       "model_id": "f9473d03fcd04b79a3fd420741df43fa",
       "version_major": 2,
       "version_minor": 0
      },
      "text/plain": [
       "Output()"
      ]
     },
     "metadata": {},
     "output_type": "display_data"
    }
   ],
   "source": [
    "# env = BartEnv(passive_trial_prob=0, fixed_reward_prob=0, random_start_wait=True)\n",
    "env = BartEnv(num_balloons=2, max_steps=30, punish_passive=-0.1)\n",
    "out = GameDisplay(env)\n",
    "out.display()"
   ]
  },
  {
   "cell_type": "markdown",
   "id": "baa70272",
   "metadata": {},
   "source": [
    "# BartMetaEnv"
   ]
  },
  {
   "cell_type": "code",
   "execution_count": 14,
   "id": "d62d99f7",
   "metadata": {},
   "outputs": [],
   "source": [
    "class GameDisplay:\n",
    "    def __init__(self, env):\n",
    "        self.env = env\n",
    "        env.reset()\n",
    "        self.output = widgets.Output()\n",
    "\n",
    "        if self.env.toggle_task:\n",
    "            labels = ['Wait', 'Start/Stop', 'N/A']\n",
    "        else:\n",
    "            labels = ['Stop', 'Inflate', 'N/A']\n",
    "        self.buttons = []\n",
    "        for i, label in enumerate(labels):\n",
    "            button = widgets.Button(description=label)\n",
    "            button.on_click(self.generate_button_callback(i))\n",
    "            self.buttons.append(button)\n",
    "        self.widgets = [*self.buttons, self.output]\n",
    "\n",
    "    def update(self, output):\n",
    "        self.output.clear_output()\n",
    "        with self.output:\n",
    "            print(output)\n",
    "\n",
    "    def step(self, action):\n",
    "        obs, reward, terminated, truncated, info = self.env.step(action)\n",
    "        self.output.clear_output()\n",
    "        with self.output:\n",
    "            # print(f'action {action}')\n",
    "            # print(f'Observation {obs}, Reward {reward}, Done {done}')\n",
    "            print(f'Color: {self.env.current_color}, Size: {self.env.current_size}')\n",
    "            print(f'Observation: {obs}')\n",
    "            print(f'Color mean: {self.env.balloon_mean_sizes[self.env.color_to_idx[self.env.current_color]]}')\n",
    "            print(f'True max: {self.env.current_balloon_limit}')\n",
    "            print(f'Reward: {reward}')\n",
    "            print(f'Inflate delay: {info[\"inflate_delay\"]}')\n",
    "\n",
    "            # print(done)\n",
    "            if 'bart_finished' in info and info['bart_finished']:\n",
    "                if info['popped']:\n",
    "                    print(f'Popped! Reward {reward}')\n",
    "                else:\n",
    "                    print(f'Banked {reward}')\n",
    "                print('Env Reset')\n",
    "            if terminated:\n",
    "                print('TERMINATED')\n",
    "        return obs, reward, terminated, info\n",
    "\n",
    "    def generate_button_callback(self, action):\n",
    "        on_click = lambda b: self.step(action)\n",
    "        return on_click\n",
    "\n",
    "    def display(self):\n",
    "        display(*self.widgets)"
   ]
  },
  {
   "cell_type": "code",
   "execution_count": 15,
   "id": "e7b010ea",
   "metadata": {},
   "outputs": [
    {
     "data": {
      "application/vnd.jupyter.widget-view+json": {
       "model_id": "14093dac97cf42fda4f6df99051ca54d",
       "version_major": 2,
       "version_minor": 0
      },
      "text/plain": [
       "Button(description='Wait', style=ButtonStyle())"
      ]
     },
     "metadata": {},
     "output_type": "display_data"
    },
    {
     "data": {
      "application/vnd.jupyter.widget-view+json": {
       "model_id": "8ff833edb9854f9dbd6a246d96f0235c",
       "version_major": 2,
       "version_minor": 0
      },
      "text/plain": [
       "Button(description='Start/Stop', style=ButtonStyle())"
      ]
     },
     "metadata": {},
     "output_type": "display_data"
    },
    {
     "data": {
      "application/vnd.jupyter.widget-view+json": {
       "model_id": "e47dac842135492180ca3fa540c37df2",
       "version_major": 2,
       "version_minor": 0
      },
      "text/plain": [
       "Button(description='N/A', style=ButtonStyle())"
      ]
     },
     "metadata": {},
     "output_type": "display_data"
    },
    {
     "data": {
      "application/vnd.jupyter.widget-view+json": {
       "model_id": "50e2b5bd6bd44d04b7e1b3e615b5ca80",
       "version_major": 2,
       "version_minor": 0
      },
      "text/plain": [
       "Output()"
      ]
     },
     "metadata": {},
     "output_type": "display_data"
    }
   ],
   "source": [
    "env = gym.make('BartMetaEnv', meta_setup=1, colors_used=1, inflate_noise=0, num_balloons=2,\n",
    "               rew_structure=6, rew_p=1.5, rew_on_pop=-0.1)\n",
    "# env = BartMetaEnv(meta_setup=1, fix_sizes={1: 0.8}, colors_used=1, num_balloons=2, give_rew=True,\n",
    "#                   rew_structure=6, rew_p=1.5, rew_on_pop=-0.1)\n",
    "out = GameDisplay(env)\n",
    "out.display()"
   ]
  },
  {
   "cell_type": "code",
   "execution_count": 8,
   "id": "aa06185f",
   "metadata": {},
   "outputs": [
    {
     "data": {
      "text/plain": [
       "0"
      ]
     },
     "execution_count": 8,
     "metadata": {},
     "output_type": "execute_result"
    }
   ],
   "source": [
    "env.inflate_delay"
   ]
  },
  {
   "cell_type": "code",
   "execution_count": 14,
   "id": "5d8f3e98",
   "metadata": {},
   "outputs": [
    {
     "data": {
      "text/plain": [
       "(9,)"
      ]
     },
     "execution_count": 14,
     "metadata": {},
     "output_type": "execute_result"
    }
   ],
   "source": [
    "env.observation_space.shapeg"
   ]
  },
  {
   "cell_type": "code",
   "execution_count": null,
   "id": "12e03f48",
   "metadata": {},
   "outputs": [],
   "source": [
    "import sys\n",
    "sys.path.append('../')\n",
    "from ppo.envs import make_vec_env\n"
   ]
  },
  {
   "cell_type": "code",
   "execution_count": null,
   "id": "a64ec2eb",
   "metadata": {},
   "outputs": [
    {
     "data": {
      "text/plain": [
       "array([[0.        , 0.00353516, 0.        , 0.        , 0.        ,\n",
       "        0.        , 0.00353516, 0.        ],\n",
       "       [0.        , 0.00353516, 0.        , 0.        , 0.        ,\n",
       "        0.        , 0.00353516, 0.        ],\n",
       "       [0.        , 0.00353516, 0.        , 0.        , 0.        ,\n",
       "        0.        , 0.00353516, 0.        ],\n",
       "       [0.        , 0.00353516, 0.        , 0.        , 0.        ,\n",
       "        0.        , 0.00353516, 0.        ]], dtype=float32)"
      ]
     },
     "execution_count": 153,
     "metadata": {},
     "output_type": "execute_result"
    }
   ],
   "source": [
    "\n",
    "env_kwargs = {'meta_setup': 1, 'colors_used': 1, \n",
    "            'inflate_noise': 0, 'pop_noise': 0,\n",
    "            'rew_structure': 0, 'max_steps': 5,\n",
    "            'num_balloons': 5}\n",
    "envs = make_vec_env('BartMetaEnv', env_kwargs=env_kwargs, n_envs=4)\n",
    "envs.reset()"
   ]
  }
 ],
 "metadata": {
  "kernelspec": {
   "display_name": "Python 3 (ipykernel)",
   "language": "python",
   "name": "python3"
  },
  "language_info": {
   "codemirror_mode": {
    "name": "ipython",
    "version": 3
   },
   "file_extension": ".py",
   "mimetype": "text/x-python",
   "name": "python",
   "nbconvert_exporter": "python",
   "pygments_lexer": "ipython3",
   "version": "3.9.19"
  }
 },
 "nbformat": 4,
 "nbformat_minor": 5
}
