{
 "cells": [
  {
   "cell_type": "code",
   "execution_count": 1,
   "id": "981f9403-5d6f-4f78-b336-e758d93dadbc",
   "metadata": {},
   "outputs": [],
   "source": [
    "import gymnasium as gym\n",
    "import gym_bart\n",
    "import numpy as np\n",
    "\n",
    "import ipywidgets as widgets\n",
    "from IPython.display import display\n",
    "from functools import partial\n",
    "\n",
    "%run ../env/gym_bart/envs/bart_env.py\n",
    "%run ../env/gym_bart/envs/bart_meta_env.py"
   ]
  },
  {
   "cell_type": "markdown",
   "id": "51eedeae-57b1-43fa-a0bf-ffb77546d07e",
   "metadata": {},
   "source": [
    "# Display"
   ]
  },
  {
   "cell_type": "code",
   "execution_count": null,
   "id": "9528394d-8973-414b-b49c-e4cff299c79b",
   "metadata": {},
   "outputs": [],
   "source": [
    "class GameDisplay:\n",
    "    def __init__(self, env):\n",
    "        self.env = env\n",
    "        env.reset()\n",
    "        self.output = widgets.Output()\n",
    "\n",
    "        if self.env.toggle_task:\n",
    "            labels = ['Wait', 'Start/Stop', 'N/A']\n",
    "        else:\n",
    "            labels = ['Stop', 'Inflate', 'N/A']\n",
    "        self.buttons = []\n",
    "        for i, label in enumerate(labels):\n",
    "            button = widgets.Button(description=label)\n",
    "            button.on_click(self.generate_button_callback(i))\n",
    "            self.buttons.append(button)\n",
    "        self.widgets = [*self.buttons, self.output]\n",
    "\n",
    "    def update(self, output):\n",
    "        self.output.clear_output()\n",
    "        with self.output:\n",
    "            print(output)\n",
    "\n",
    "    def step(self, action):\n",
    "        obs, reward, terminated, truncated, info = self.env.step(action)\n",
    "        self.output.clear_output()\n",
    "        with self.output:\n",
    "            # print(f'action {action}')\n",
    "            # print(f'Observation {obs}, Reward {reward}, Done {done}')\n",
    "            print(f'Color: {self.env.current_color}, Size: {self.env.current_size}')\n",
    "            print(f'Observation: {obs}')\n",
    "\n",
    "            # print(done)\n",
    "            if terminated:\n",
    "                if reward > 0:\n",
    "                    print(f'Banked {reward}')\n",
    "                else:\n",
    "                    print(f'Popped! Reward {reward}')\n",
    "                print('Env Reset')\n",
    "                obs = self.env.reset()\n",
    "        return obs, reward, terminated, info\n",
    "\n",
    "    def generate_button_callback(self, action):\n",
    "        on_click = lambda b: self.step(action)\n",
    "        return on_click\n",
    "\n",
    "    def display(self):\n",
    "        display(*self.widgets)"
   ]
  },
  {
   "cell_type": "code",
   "execution_count": null,
   "id": "3b098d5e-e324-48ad-816f-949f81e99512",
   "metadata": {},
   "outputs": [
    {
     "data": {
      "application/vnd.jupyter.widget-view+json": {
       "model_id": "6a39407191dd4baa9f6f79878f49824a",
       "version_major": 2,
       "version_minor": 0
      },
      "text/plain": [
       "Button(description='Wait', style=ButtonStyle())"
      ]
     },
     "metadata": {},
     "output_type": "display_data"
    },
    {
     "data": {
      "application/vnd.jupyter.widget-view+json": {
       "model_id": "6c7db3b7317f48a3b78370c1a082ba6d",
       "version_major": 2,
       "version_minor": 0
      },
      "text/plain": [
       "Button(description='Start/Stop', style=ButtonStyle())"
      ]
     },
     "metadata": {},
     "output_type": "display_data"
    },
    {
     "data": {
      "application/vnd.jupyter.widget-view+json": {
       "model_id": "df4fa6049acd48d6ab205fd33e26710c",
       "version_major": 2,
       "version_minor": 0
      },
      "text/plain": [
       "Button(description='N/A', style=ButtonStyle())"
      ]
     },
     "metadata": {},
     "output_type": "display_data"
    },
    {
     "data": {
      "application/vnd.jupyter.widget-view+json": {
       "model_id": "d48aa89c5d9e4555800431284eafb060",
       "version_major": 2,
       "version_minor": 0
      },
      "text/plain": [
       "Output()"
      ]
     },
     "metadata": {},
     "output_type": "display_data"
    }
   ],
   "source": [
    "env = BartEnv(hold_to_inflate=False)\n",
    "out = GameDisplay(env)\n",
    "out.display()"
   ]
  },
  {
   "cell_type": "markdown",
   "id": "baa70272",
   "metadata": {},
   "source": [
    "# BartMetaEnv"
   ]
  },
  {
   "cell_type": "code",
   "execution_count": 3,
   "id": "d62d99f7",
   "metadata": {},
   "outputs": [],
   "source": [
    "class GameDisplay:\n",
    "    def __init__(self, env):\n",
    "        self.env = env\n",
    "        env.reset()\n",
    "        self.output = widgets.Output()\n",
    "\n",
    "        if self.env.toggle_task:\n",
    "            labels = ['Wait', 'Start/Stop', 'N/A']\n",
    "        else:\n",
    "            labels = ['Stop', 'Inflate', 'N/A']\n",
    "        self.buttons = []\n",
    "        for i, label in enumerate(labels):\n",
    "            button = widgets.Button(description=label)\n",
    "            button.on_click(self.generate_button_callback(i))\n",
    "            self.buttons.append(button)\n",
    "        self.widgets = [*self.buttons, self.output]\n",
    "\n",
    "    def update(self, output):\n",
    "        self.output.clear_output()\n",
    "        with self.output:\n",
    "            print(output)\n",
    "\n",
    "    def step(self, action):\n",
    "        obs, reward, terminated, truncated, info = self.env.step(action)\n",
    "        self.output.clear_output()\n",
    "        with self.output:\n",
    "            # print(f'action {action}')\n",
    "            # print(f'Observation {obs}, Reward {reward}, Done {done}')\n",
    "            print(f'Color: {self.env.current_color}, Size: {self.env.current_size}')\n",
    "            print(f'Observation: {obs}')\n",
    "            print(f'Color mean: {self.env.balloon_mean_sizes[self.env.color_to_idx[self.env.current_color]]}')\n",
    "            print(f'True max: {self.env.current_balloon_limit}')\n",
    "            print(f'Reward: {reward}')\n",
    "\n",
    "            # print(done)\n",
    "            if 'bart_finished' in info and info['bart_finished']:\n",
    "                if info['popped']:\n",
    "                    print(f'Popped! Reward {reward}')\n",
    "                else:\n",
    "                    print(f'Banked {reward}')\n",
    "                print('Env Reset')\n",
    "            if terminated:\n",
    "                print('TERMINATED')\n",
    "        return obs, reward, terminated, info\n",
    "\n",
    "    def generate_button_callback(self, action):\n",
    "        on_click = lambda b: self.step(action)\n",
    "        return on_click\n",
    "\n",
    "    def display(self):\n",
    "        display(*self.widgets)"
   ]
  },
  {
   "cell_type": "code",
   "execution_count": 4,
   "id": "e7b010ea",
   "metadata": {},
   "outputs": [
    {
     "name": "stderr",
     "output_type": "stream",
     "text": [
      "c:\\Users\\14and\\anaconda3\\envs\\bart\\lib\\site-packages\\gymnasium\\core.py:311: UserWarning: \u001b[33mWARN: env.toggle_task to get variables from other wrappers is deprecated and will be removed in v1.0, to get this variable you can do `env.unwrapped.toggle_task` for environment variables or `env.get_wrapper_attr('toggle_task')` that will search the reminding wrappers.\u001b[0m\n",
      "  logger.warn(\n"
     ]
    },
    {
     "data": {
      "application/vnd.jupyter.widget-view+json": {
       "model_id": "fa4d7e58babc4f2096687957536ff6db",
       "version_major": 2,
       "version_minor": 0
      },
      "text/plain": [
       "Button(description='Wait', style=ButtonStyle())"
      ]
     },
     "metadata": {},
     "output_type": "display_data"
    },
    {
     "data": {
      "application/vnd.jupyter.widget-view+json": {
       "model_id": "a5e03458df9c406da162830e37f93507",
       "version_major": 2,
       "version_minor": 0
      },
      "text/plain": [
       "Button(description='Start/Stop', style=ButtonStyle())"
      ]
     },
     "metadata": {},
     "output_type": "display_data"
    },
    {
     "data": {
      "application/vnd.jupyter.widget-view+json": {
       "model_id": "6288f1353baa4ba6a5e52f53d74558fc",
       "version_major": 2,
       "version_minor": 0
      },
      "text/plain": [
       "Button(description='N/A', style=ButtonStyle())"
      ]
     },
     "metadata": {},
     "output_type": "display_data"
    },
    {
     "data": {
      "application/vnd.jupyter.widget-view+json": {
       "model_id": "2eeb50b6aaab4cd0afb970d42bc7b1e5",
       "version_major": 2,
       "version_minor": 0
      },
      "text/plain": [
       "Output()"
      ]
     },
     "metadata": {},
     "output_type": "display_data"
    }
   ],
   "source": [
    "env = gym.make('BartMetaEnv', meta_setup=1, colors_used=1, inflate_noise=0, num_balloons=2,\n",
    "               rew_structure=6, rew_p=1.5, rew_on_pop=-0.1)\n",
    "# env = BartMetaEnv(meta_setup=1, fix_sizes={1: 0.8}, colors_used=1, num_balloons=2, give_rew=True,\n",
    "#                   rew_structure=6, rew_p=1.5, rew_on_pop=-0.1)\n",
    "out = GameDisplay(env)\n",
    "out.display()"
   ]
  },
  {
   "cell_type": "code",
   "execution_count": 14,
   "id": "5d8f3e98",
   "metadata": {},
   "outputs": [
    {
     "data": {
      "text/plain": [
       "(9,)"
      ]
     },
     "execution_count": 14,
     "metadata": {},
     "output_type": "execute_result"
    }
   ],
   "source": [
    "env.observation_space.shapeg"
   ]
  },
  {
   "cell_type": "code",
   "execution_count": null,
   "id": "12e03f48",
   "metadata": {},
   "outputs": [],
   "source": [
    "import sys\n",
    "sys.path.append('../')\n",
    "from ppo.envs import make_vec_env\n"
   ]
  },
  {
   "cell_type": "code",
   "execution_count": null,
   "id": "a64ec2eb",
   "metadata": {},
   "outputs": [
    {
     "data": {
      "text/plain": [
       "array([[0.        , 0.00353516, 0.        , 0.        , 0.        ,\n",
       "        0.        , 0.00353516, 0.        ],\n",
       "       [0.        , 0.00353516, 0.        , 0.        , 0.        ,\n",
       "        0.        , 0.00353516, 0.        ],\n",
       "       [0.        , 0.00353516, 0.        , 0.        , 0.        ,\n",
       "        0.        , 0.00353516, 0.        ],\n",
       "       [0.        , 0.00353516, 0.        , 0.        , 0.        ,\n",
       "        0.        , 0.00353516, 0.        ]], dtype=float32)"
      ]
     },
     "execution_count": 153,
     "metadata": {},
     "output_type": "execute_result"
    }
   ],
   "source": [
    "\n",
    "env_kwargs = {'meta_setup': 1, 'colors_used': 1, \n",
    "            'inflate_noise': 0, 'pop_noise': 0,\n",
    "            'rew_structure': 0, 'max_steps': 5,\n",
    "            'num_balloons': 5}\n",
    "envs = make_vec_env('BartMetaEnv', env_kwargs=env_kwargs, n_envs=4)\n",
    "envs.reset()"
   ]
  }
 ],
 "metadata": {
  "kernelspec": {
   "display_name": "Python 3 (ipykernel)",
   "language": "python",
   "name": "python3"
  },
  "language_info": {
   "codemirror_mode": {
    "name": "ipython",
    "version": 3
   },
   "file_extension": ".py",
   "mimetype": "text/x-python",
   "name": "python",
   "nbconvert_exporter": "python",
   "pygments_lexer": "ipython3",
   "version": "3.9.19"
  }
 },
 "nbformat": 4,
 "nbformat_minor": 5
}
