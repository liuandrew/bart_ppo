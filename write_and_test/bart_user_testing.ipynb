{
 "cells": [
  {
   "cell_type": "code",
   "execution_count": 2,
   "id": "981f9403-5d6f-4f78-b336-e758d93dadbc",
   "metadata": {},
   "outputs": [
    {
     "ename": "KeyboardInterrupt",
     "evalue": "",
     "output_type": "error",
     "traceback": [
      "\u001b[1;31m---------------------------------------------------------------------------\u001b[0m",
      "\u001b[1;31mKeyboardInterrupt\u001b[0m                         Traceback (most recent call last)",
      "File \u001b[1;32m~\\Desktop\\Work\\github\\bart_ppo\\env\\gym_bart\\envs\\bart_env.py:4\u001b[0m\n\u001b[0;32m      2\u001b[0m \u001b[38;5;28;01mimport\u001b[39;00m \u001b[38;5;21;01mgymnasium\u001b[39;00m \u001b[38;5;28;01mas\u001b[39;00m \u001b[38;5;21;01mgym\u001b[39;00m\n\u001b[0;32m      3\u001b[0m \u001b[38;5;28;01mfrom\u001b[39;00m \u001b[38;5;21;01mgymnasium\u001b[39;00m \u001b[38;5;28;01mimport\u001b[39;00m spaces\n\u001b[1;32m----> 4\u001b[0m \u001b[38;5;28;01mimport\u001b[39;00m \u001b[38;5;21;01mtorch\u001b[39;00m\n\u001b[0;32m      6\u001b[0m \u001b[38;5;28;01mimport\u001b[39;00m \u001b[38;5;21;01mrandom\u001b[39;00m\n\u001b[0;32m      8\u001b[0m \u001b[38;5;28;01mclass\u001b[39;00m \u001b[38;5;21;01mBartEnv\u001b[39;00m(gym\u001b[38;5;241m.\u001b[39mEnv):\n",
      "File \u001b[1;32mc:\\Users\\14and\\anaconda3\\envs\\bart\\lib\\site-packages\\torch\\__init__.py:1921\u001b[0m\n\u001b[0;32m   1919\u001b[0m \u001b[38;5;28;01mfrom\u001b[39;00m \u001b[38;5;21;01m.\u001b[39;00m \u001b[38;5;28;01mimport\u001b[39;00m library\n\u001b[0;32m   1920\u001b[0m \u001b[38;5;28;01mif\u001b[39;00m \u001b[38;5;129;01mnot\u001b[39;00m TYPE_CHECKING:\n\u001b[1;32m-> 1921\u001b[0m     \u001b[38;5;28;01mfrom\u001b[39;00m \u001b[38;5;21;01m.\u001b[39;00m \u001b[38;5;28;01mimport\u001b[39;00m _meta_registrations\n\u001b[0;32m   1923\u001b[0m \u001b[38;5;66;03m# Enable CUDA Sanitizer\u001b[39;00m\n\u001b[0;32m   1924\u001b[0m \u001b[38;5;28;01mif\u001b[39;00m \u001b[38;5;124m'\u001b[39m\u001b[38;5;124mTORCH_CUDA_SANITIZER\u001b[39m\u001b[38;5;124m'\u001b[39m \u001b[38;5;129;01min\u001b[39;00m os\u001b[38;5;241m.\u001b[39menviron:\n",
      "File \u001b[1;32mc:\\Users\\14and\\anaconda3\\envs\\bart\\lib\\site-packages\\torch\\_meta_registrations.py:9\u001b[0m\n\u001b[0;32m      7\u001b[0m \u001b[38;5;28;01mimport\u001b[39;00m \u001b[38;5;21;01mtorch\u001b[39;00m\u001b[38;5;21;01m.\u001b[39;00m\u001b[38;5;21;01m_prims_common\u001b[39;00m \u001b[38;5;28;01mas\u001b[39;00m \u001b[38;5;21;01mutils\u001b[39;00m\n\u001b[0;32m      8\u001b[0m \u001b[38;5;28;01mfrom\u001b[39;00m \u001b[38;5;21;01mtorch\u001b[39;00m \u001b[38;5;28;01mimport\u001b[39;00m SymBool, SymFloat, Tensor\n\u001b[1;32m----> 9\u001b[0m \u001b[38;5;28;01mfrom\u001b[39;00m \u001b[38;5;21;01mtorch\u001b[39;00m\u001b[38;5;21;01m.\u001b[39;00m\u001b[38;5;21;01m_decomp\u001b[39;00m \u001b[38;5;28;01mimport\u001b[39;00m (\n\u001b[0;32m     10\u001b[0m     _add_op_to_registry,\n\u001b[0;32m     11\u001b[0m     _convert_out_params,\n\u001b[0;32m     12\u001b[0m     global_decomposition_table,\n\u001b[0;32m     13\u001b[0m     meta_table,\n\u001b[0;32m     14\u001b[0m )\n\u001b[0;32m     15\u001b[0m \u001b[38;5;28;01mfrom\u001b[39;00m \u001b[38;5;21;01mtorch\u001b[39;00m\u001b[38;5;21;01m.\u001b[39;00m\u001b[38;5;21;01m_ops\u001b[39;00m \u001b[38;5;28;01mimport\u001b[39;00m OpOverload\n\u001b[0;32m     16\u001b[0m \u001b[38;5;28;01mfrom\u001b[39;00m \u001b[38;5;21;01mtorch\u001b[39;00m\u001b[38;5;21;01m.\u001b[39;00m\u001b[38;5;21;01m_prims\u001b[39;00m \u001b[38;5;28;01mimport\u001b[39;00m _prim_elementwise_meta, ELEMENTWISE_PRIM_TYPE_PROMOTION_KIND\n",
      "File \u001b[1;32mc:\\Users\\14and\\anaconda3\\envs\\bart\\lib\\site-packages\\torch\\_decomp\\__init__.py:245\u001b[0m\n\u001b[0;32m    243\u001b[0m \u001b[38;5;66;03m# populate the table\u001b[39;00m\n\u001b[0;32m    244\u001b[0m \u001b[38;5;28;01mimport\u001b[39;00m \u001b[38;5;21;01mtorch\u001b[39;00m\u001b[38;5;21;01m.\u001b[39;00m\u001b[38;5;21;01m_decomp\u001b[39;00m\u001b[38;5;21;01m.\u001b[39;00m\u001b[38;5;21;01mdecompositions\u001b[39;00m\n\u001b[1;32m--> 245\u001b[0m \u001b[38;5;28;01mimport\u001b[39;00m \u001b[38;5;21;01mtorch\u001b[39;00m\u001b[38;5;21;01m.\u001b[39;00m\u001b[38;5;21;01m_refs\u001b[39;00m\n\u001b[0;32m    248\u001b[0m \u001b[38;5;66;03m# See NOTE [Core ATen Ops]\u001b[39;00m\n\u001b[0;32m    249\u001b[0m \u001b[38;5;66;03m#\u001b[39;00m\n\u001b[0;32m    250\u001b[0m \u001b[38;5;66;03m# list was copied from torch/_inductor/decomposition.py\u001b[39;00m\n\u001b[0;32m    251\u001b[0m \u001b[38;5;66;03m# excluding decompositions that results in prim ops\u001b[39;00m\n\u001b[0;32m    252\u001b[0m \u001b[38;5;66;03m# Resulting opset of decomposition is core aten ops\u001b[39;00m\n\u001b[0;32m    253\u001b[0m \u001b[38;5;28;01mdef\u001b[39;00m \u001b[38;5;21mcore_aten_decompositions\u001b[39m() \u001b[38;5;241m-\u001b[39m\u001b[38;5;241m>\u001b[39m Dict[torch\u001b[38;5;241m.\u001b[39m_ops\u001b[38;5;241m.\u001b[39mOperatorBase, Callable]:\n",
      "File \u001b[1;32mc:\\Users\\14and\\anaconda3\\envs\\bart\\lib\\site-packages\\torch\\_refs\\__init__.py:734\u001b[0m\n\u001b[0;32m    726\u001b[0m \u001b[38;5;66;03m# alias\u001b[39;00m\n\u001b[0;32m    727\u001b[0m mvlgamma \u001b[38;5;241m=\u001b[39m _make_alias(torch\u001b[38;5;241m.\u001b[39mspecial\u001b[38;5;241m.\u001b[39mmultigammaln, \u001b[38;5;124m\"\u001b[39m\u001b[38;5;124mmvlgamma\u001b[39m\u001b[38;5;124m\"\u001b[39m)  \u001b[38;5;66;03m# type: ignore[has-type]\u001b[39;00m\n\u001b[0;32m    730\u001b[0m \u001b[38;5;129;43m@_make_elementwise_unary_reference\u001b[39;49m\u001b[43m(\u001b[49m\n\u001b[0;32m    731\u001b[0m \u001b[43m    \u001b[49m\u001b[43mELEMENTWISE_TYPE_PROMOTION_KIND\u001b[49m\u001b[38;5;241;43m.\u001b[39;49m\u001b[43mALWAYS_BOOL\u001b[49m\u001b[43m,\u001b[49m\n\u001b[0;32m    732\u001b[0m \u001b[43m    \u001b[49m\u001b[43maten_op\u001b[49m\u001b[38;5;241;43m=\u001b[39;49m\u001b[38;5;28;43;01mNone\u001b[39;49;00m\u001b[43m,\u001b[49m\u001b[43m  \u001b[49m\u001b[38;5;66;43;03m# CompositeImplicitAutograd\u001b[39;49;00m\n\u001b[0;32m    733\u001b[0m \u001b[43m)\u001b[49m\n\u001b[1;32m--> 734\u001b[0m \u001b[38;5;28;43;01mdef\u001b[39;49;00m\u001b[43m \u001b[49m\u001b[38;5;21;43misreal\u001b[39;49m\u001b[43m(\u001b[49m\u001b[43ma\u001b[49m\u001b[43m:\u001b[49m\u001b[43m \u001b[49m\u001b[43mTensorLikeType\u001b[49m\u001b[43m)\u001b[49m\u001b[43m \u001b[49m\u001b[38;5;241;43m-\u001b[39;49m\u001b[38;5;241;43m>\u001b[39;49m\u001b[43m \u001b[49m\u001b[43mTensorLikeType\u001b[49m\u001b[43m:\u001b[49m\n\u001b[0;32m    735\u001b[0m \u001b[43m    \u001b[49m\u001b[38;5;28;43;01mif\u001b[39;49;00m\u001b[43m \u001b[49m\u001b[43mutils\u001b[49m\u001b[38;5;241;43m.\u001b[39;49m\u001b[43mis_complex_dtype\u001b[49m\u001b[43m(\u001b[49m\u001b[43ma\u001b[49m\u001b[38;5;241;43m.\u001b[39;49m\u001b[43mdtype\u001b[49m\u001b[43m)\u001b[49m\u001b[43m:\u001b[49m\n\u001b[0;32m    736\u001b[0m \u001b[43m        \u001b[49m\u001b[38;5;28;43;01mreturn\u001b[39;49;00m\u001b[43m \u001b[49m\u001b[43mtorch\u001b[49m\u001b[38;5;241;43m.\u001b[39;49m\u001b[43mimag\u001b[49m\u001b[43m(\u001b[49m\u001b[43ma\u001b[49m\u001b[43m)\u001b[49m\u001b[43m \u001b[49m\u001b[38;5;241;43m==\u001b[39;49m\u001b[43m \u001b[49m\u001b[38;5;241;43m0\u001b[39;49m\n",
      "File \u001b[1;32mc:\\Users\\14and\\anaconda3\\envs\\bart\\lib\\site-packages\\torch\\_refs\\__init__.py:467\u001b[0m, in \u001b[0;36m_make_elementwise_unary_reference.<locals>.inner\u001b[1;34m(prim)\u001b[0m\n\u001b[0;32m    457\u001b[0m \u001b[38;5;28;01mdef\u001b[39;00m \u001b[38;5;21minner\u001b[39m(prim: Callable):\n\u001b[0;32m    458\u001b[0m     \u001b[38;5;28;01mnonlocal\u001b[39;00m aten_op\n\u001b[0;32m    460\u001b[0m     \u001b[38;5;129m@wraps\u001b[39m(prim)\n\u001b[0;32m    461\u001b[0m     \u001b[38;5;129m@out_wrapper\u001b[39m()\n\u001b[0;32m    462\u001b[0m     \u001b[38;5;129m@elementwise_unary_scalar_wrapper\u001b[39m\n\u001b[0;32m    463\u001b[0m     \u001b[38;5;129m@elementwise_type_promotion_wrapper\u001b[39m(\n\u001b[0;32m    464\u001b[0m         type_promoting_args\u001b[38;5;241m=\u001b[39m(\u001b[38;5;124m\"\u001b[39m\u001b[38;5;124ma\u001b[39m\u001b[38;5;124m\"\u001b[39m,),\n\u001b[0;32m    465\u001b[0m         type_promotion_kind\u001b[38;5;241m=\u001b[39mtype_promotion_kind,\n\u001b[0;32m    466\u001b[0m     )\n\u001b[1;32m--> 467\u001b[0m     \u001b[38;5;28;01mdef\u001b[39;00m \u001b[38;5;21m_ref\u001b[39m(a: TensorLikeType) \u001b[38;5;241m-\u001b[39m\u001b[38;5;241m>\u001b[39m TensorLikeType:\n\u001b[0;32m    468\u001b[0m         \u001b[38;5;28;01mif\u001b[39;00m extra_meta \u001b[38;5;129;01mis\u001b[39;00m \u001b[38;5;129;01mnot\u001b[39;00m \u001b[38;5;28;01mNone\u001b[39;00m:\n\u001b[0;32m    469\u001b[0m             extra_meta(a)\n",
      "\u001b[1;31mKeyboardInterrupt\u001b[0m: "
     ]
    },
    {
     "ename": "NameError",
     "evalue": "name '_C' is not defined",
     "output_type": "error",
     "traceback": [
      "\u001b[1;31m---------------------------------------------------------------------------\u001b[0m",
      "\u001b[1;31mNameError\u001b[0m                                 Traceback (most recent call last)",
      "File \u001b[1;32m~\\Desktop\\Work\\github\\bart_ppo\\env\\gym_bart\\envs\\bart_meta_env.py:4\u001b[0m\n\u001b[0;32m      2\u001b[0m \u001b[38;5;28;01mimport\u001b[39;00m \u001b[38;5;21;01mgymnasium\u001b[39;00m \u001b[38;5;28;01mas\u001b[39;00m \u001b[38;5;21;01mgym\u001b[39;00m\n\u001b[0;32m      3\u001b[0m \u001b[38;5;28;01mfrom\u001b[39;00m \u001b[38;5;21;01mgymnasium\u001b[39;00m \u001b[38;5;28;01mimport\u001b[39;00m spaces\n\u001b[1;32m----> 4\u001b[0m \u001b[38;5;28;01mimport\u001b[39;00m \u001b[38;5;21;01mtorch\u001b[39;00m\n\u001b[0;32m      6\u001b[0m \u001b[38;5;28;01mimport\u001b[39;00m \u001b[38;5;21;01mrandom\u001b[39;00m\n\u001b[0;32m      8\u001b[0m \u001b[38;5;28;01mclass\u001b[39;00m \u001b[38;5;21;01mBartMetaEnv\u001b[39;00m(gym\u001b[38;5;241m.\u001b[39mEnv):\n",
      "File \u001b[1;32mc:\\Users\\14and\\anaconda3\\envs\\bart\\lib\\site-packages\\torch\\__init__.py:562\u001b[0m\n\u001b[0;32m    548\u001b[0m         \u001b[38;5;28;01mraise\u001b[39;00m \u001b[38;5;167;01mImportError\u001b[39;00m(textwrap\u001b[38;5;241m.\u001b[39mdedent(\u001b[38;5;124m'''\u001b[39m\n\u001b[0;32m    549\u001b[0m \u001b[38;5;124m            Failed to load PyTorch C extensions:\u001b[39m\n\u001b[0;32m    550\u001b[0m \u001b[38;5;124m                It appears that PyTorch has loaded the `torch/_C` folder\u001b[39m\n\u001b[1;32m   (...)\u001b[0m\n\u001b[0;32m    558\u001b[0m \u001b[38;5;124m                or by running Python from a different directory.\u001b[39m\n\u001b[0;32m    559\u001b[0m \u001b[38;5;124m            \u001b[39m\u001b[38;5;124m'''\u001b[39m)\u001b[38;5;241m.\u001b[39mstrip()) \u001b[38;5;28;01mfrom\u001b[39;00m \u001b[38;5;28;01mNone\u001b[39;00m\n\u001b[0;32m    560\u001b[0m     \u001b[38;5;28;01mraise\u001b[39;00m  \u001b[38;5;66;03m# If __file__ is not None the cause is unknown, so just re-raise.\u001b[39;00m\n\u001b[1;32m--> 562\u001b[0m \u001b[38;5;28;01mfor\u001b[39;00m name \u001b[38;5;129;01min\u001b[39;00m \u001b[38;5;28mdir\u001b[39m(\u001b[43m_C\u001b[49m):\n\u001b[0;32m    563\u001b[0m     \u001b[38;5;28;01mif\u001b[39;00m name[\u001b[38;5;241m0\u001b[39m] \u001b[38;5;241m!=\u001b[39m \u001b[38;5;124m'\u001b[39m\u001b[38;5;124m_\u001b[39m\u001b[38;5;124m'\u001b[39m \u001b[38;5;129;01mand\u001b[39;00m \u001b[38;5;129;01mnot\u001b[39;00m name\u001b[38;5;241m.\u001b[39mendswith(\u001b[38;5;124m'\u001b[39m\u001b[38;5;124mBase\u001b[39m\u001b[38;5;124m'\u001b[39m):\n\u001b[0;32m    564\u001b[0m         __all__\u001b[38;5;241m.\u001b[39mappend(name)\n",
      "\u001b[1;31mNameError\u001b[0m: name '_C' is not defined"
     ]
    },
    {
     "ename": "",
     "evalue": "",
     "output_type": "error",
     "traceback": [
      "\u001b[1;31mThe Kernel crashed while executing code in the current cell or a previous cell. \n",
      "\u001b[1;31mPlease review the code in the cell(s) to identify a possible cause of the failure. \n",
      "\u001b[1;31mClick <a href='https://aka.ms/vscodeJupyterKernelCrash'>here</a> for more info. \n",
      "\u001b[1;31mView Jupyter <a href='command:jupyter.viewOutput'>log</a> for further details."
     ]
    }
   ],
   "source": [
    "import gymnasium as gym\n",
    "import gym_bart\n",
    "import numpy as np\n",
    "\n",
    "import ipywidgets as widgets\n",
    "from IPython.display import display\n",
    "from functools import partial\n",
    "\n",
    "%run ../env/gym_bart/envs/bart_env.py\n",
    "%run ../env/gym_bart/envs/bart_meta_env.py"
   ]
  },
  {
   "cell_type": "markdown",
   "id": "51eedeae-57b1-43fa-a0bf-ffb77546d07e",
   "metadata": {},
   "source": [
    "# Display"
   ]
  },
  {
   "cell_type": "code",
   "execution_count": null,
   "id": "9528394d-8973-414b-b49c-e4cff299c79b",
   "metadata": {},
   "outputs": [],
   "source": [
    "class GameDisplay:\n",
    "    def __init__(self, env):\n",
    "        self.env = env\n",
    "        env.reset()\n",
    "        self.output = widgets.Output()\n",
    "\n",
    "        if self.env.toggle_task:\n",
    "            labels = ['Wait', 'Start/Stop', 'N/A']\n",
    "        else:\n",
    "            labels = ['Stop', 'Inflate', 'N/A']\n",
    "        self.buttons = []\n",
    "        for i, label in enumerate(labels):\n",
    "            button = widgets.Button(description=label)\n",
    "            button.on_click(self.generate_button_callback(i))\n",
    "            self.buttons.append(button)\n",
    "        self.widgets = [*self.buttons, self.output]\n",
    "\n",
    "    def update(self, output):\n",
    "        self.output.clear_output()\n",
    "        with self.output:\n",
    "            print(output)\n",
    "\n",
    "    def step(self, action):\n",
    "        obs, reward, terminated, truncated, info = self.env.step(action)\n",
    "        self.output.clear_output()\n",
    "        with self.output:\n",
    "            # print(f'action {action}')\n",
    "            # print(f'Observation {obs}, Reward {reward}, Done {done}')\n",
    "            print(f'Color: {self.env.current_color}, Size: {self.env.current_size}')\n",
    "            print(f'Observation: {obs}')\n",
    "\n",
    "            # print(done)\n",
    "            if terminated:\n",
    "                if reward > 0:\n",
    "                    print(f'Banked {reward}')\n",
    "                else:\n",
    "                    print(f'Popped! Reward {reward}')\n",
    "                print('Env Reset')\n",
    "                obs = self.env.reset()\n",
    "        return obs, reward, terminated, info\n",
    "\n",
    "    def generate_button_callback(self, action):\n",
    "        on_click = lambda b: self.step(action)\n",
    "        return on_click\n",
    "\n",
    "    def display(self):\n",
    "        display(*self.widgets)"
   ]
  },
  {
   "cell_type": "code",
   "execution_count": null,
   "id": "3b098d5e-e324-48ad-816f-949f81e99512",
   "metadata": {},
   "outputs": [
    {
     "data": {
      "application/vnd.jupyter.widget-view+json": {
       "model_id": "6a39407191dd4baa9f6f79878f49824a",
       "version_major": 2,
       "version_minor": 0
      },
      "text/plain": [
       "Button(description='Wait', style=ButtonStyle())"
      ]
     },
     "metadata": {},
     "output_type": "display_data"
    },
    {
     "data": {
      "application/vnd.jupyter.widget-view+json": {
       "model_id": "6c7db3b7317f48a3b78370c1a082ba6d",
       "version_major": 2,
       "version_minor": 0
      },
      "text/plain": [
       "Button(description='Start/Stop', style=ButtonStyle())"
      ]
     },
     "metadata": {},
     "output_type": "display_data"
    },
    {
     "data": {
      "application/vnd.jupyter.widget-view+json": {
       "model_id": "df4fa6049acd48d6ab205fd33e26710c",
       "version_major": 2,
       "version_minor": 0
      },
      "text/plain": [
       "Button(description='N/A', style=ButtonStyle())"
      ]
     },
     "metadata": {},
     "output_type": "display_data"
    },
    {
     "data": {
      "application/vnd.jupyter.widget-view+json": {
       "model_id": "d48aa89c5d9e4555800431284eafb060",
       "version_major": 2,
       "version_minor": 0
      },
      "text/plain": [
       "Output()"
      ]
     },
     "metadata": {},
     "output_type": "display_data"
    }
   ],
   "source": [
    "env = BartEnv(hold_to_inflate=False)\n",
    "out = GameDisplay(env)\n",
    "out.display()"
   ]
  },
  {
   "cell_type": "markdown",
   "id": "baa70272",
   "metadata": {},
   "source": [
    "# BartMetaEnv"
   ]
  },
  {
   "cell_type": "code",
   "execution_count": null,
   "id": "d62d99f7",
   "metadata": {},
   "outputs": [],
   "source": [
    "class GameDisplay:\n",
    "    def __init__(self, env):\n",
    "        self.env = env\n",
    "        env.reset()\n",
    "        self.output = widgets.Output()\n",
    "\n",
    "        if self.env.toggle_task:\n",
    "            labels = ['Wait', 'Start/Stop', 'N/A']\n",
    "        else:\n",
    "            labels = ['Stop', 'Inflate', 'N/A']\n",
    "        self.buttons = []\n",
    "        for i, label in enumerate(labels):\n",
    "            button = widgets.Button(description=label)\n",
    "            button.on_click(self.generate_button_callback(i))\n",
    "            self.buttons.append(button)\n",
    "        self.widgets = [*self.buttons, self.output]\n",
    "\n",
    "    def update(self, output):\n",
    "        self.output.clear_output()\n",
    "        with self.output:\n",
    "            print(output)\n",
    "\n",
    "    def step(self, action):\n",
    "        obs, reward, terminated, truncated, info = self.env.step(action)\n",
    "        self.output.clear_output()\n",
    "        with self.output:\n",
    "            # print(f'action {action}')\n",
    "            # print(f'Observation {obs}, Reward {reward}, Done {done}')\n",
    "            print(f'Color: {self.env.current_color}, Size: {self.env.current_size}')\n",
    "            print(f'Observation: {obs}')\n",
    "            print(f'Color mean: {self.env.balloon_mean_sizes[self.env.color_to_idx[self.env.current_color]]}')\n",
    "            print(f'True max: {self.env.current_balloon_limit}')\n",
    "            print(f'Reward: {reward}')\n",
    "\n",
    "            # print(done)\n",
    "            if 'bart_finished' in info and info['bart_finished']:\n",
    "                if info['popped']:\n",
    "                    print(f'Popped! Reward {reward}')\n",
    "                else:\n",
    "                    print(f'Banked {reward}')\n",
    "                print('Env Reset')\n",
    "            if terminated:\n",
    "                print('TERMINATED')\n",
    "        return obs, reward, terminated, info\n",
    "\n",
    "    def generate_button_callback(self, action):\n",
    "        on_click = lambda b: self.step(action)\n",
    "        return on_click\n",
    "\n",
    "    def display(self):\n",
    "        display(*self.widgets)"
   ]
  },
  {
   "cell_type": "code",
   "execution_count": null,
   "id": "e7b010ea",
   "metadata": {},
   "outputs": [
    {
     "data": {
      "application/vnd.jupyter.widget-view+json": {
       "model_id": "3c3d914db00e42bb99fec76193140513",
       "version_major": 2,
       "version_minor": 0
      },
      "text/plain": [
       "Button(description='Wait', style=ButtonStyle())"
      ]
     },
     "metadata": {},
     "output_type": "display_data"
    },
    {
     "data": {
      "application/vnd.jupyter.widget-view+json": {
       "model_id": "1257de6791d24535bc5945cf11c553c5",
       "version_major": 2,
       "version_minor": 0
      },
      "text/plain": [
       "Button(description='Start/Stop', style=ButtonStyle())"
      ]
     },
     "metadata": {},
     "output_type": "display_data"
    },
    {
     "data": {
      "application/vnd.jupyter.widget-view+json": {
       "model_id": "f308f6c80b8b4983933bfb08c9e867fa",
       "version_major": 2,
       "version_minor": 0
      },
      "text/plain": [
       "Button(description='N/A', style=ButtonStyle())"
      ]
     },
     "metadata": {},
     "output_type": "display_data"
    },
    {
     "data": {
      "application/vnd.jupyter.widget-view+json": {
       "model_id": "4c9e5fe9ebde4aa6913ce6c735397d17",
       "version_major": 2,
       "version_minor": 0
      },
      "text/plain": [
       "Output()"
      ]
     },
     "metadata": {},
     "output_type": "display_data"
    }
   ],
   "source": [
    "env = gym.make('BartMetaEnv', meta_setup=1, colors_used=1, inflate_noise=0, num_balloons=2)\n",
    "# env = BartMetaEnv(meta_setup=1, fix_sizes={1: 0.8}, colors_used=1, num_balloons=2)\n",
    "out = GameDisplay(env)\n",
    "out.display()"
   ]
  },
  {
   "cell_type": "code",
   "execution_count": null,
   "id": "12e03f48",
   "metadata": {},
   "outputs": [],
   "source": [
    "import sys\n",
    "sys.path.append('../')\n",
    "from ppo.envs import make_vec_env\n"
   ]
  },
  {
   "cell_type": "code",
   "execution_count": null,
   "id": "a64ec2eb",
   "metadata": {},
   "outputs": [
    {
     "data": {
      "text/plain": [
       "array([[0.        , 0.00353516, 0.        , 0.        , 0.        ,\n",
       "        0.        , 0.00353516, 0.        ],\n",
       "       [0.        , 0.00353516, 0.        , 0.        , 0.        ,\n",
       "        0.        , 0.00353516, 0.        ],\n",
       "       [0.        , 0.00353516, 0.        , 0.        , 0.        ,\n",
       "        0.        , 0.00353516, 0.        ],\n",
       "       [0.        , 0.00353516, 0.        , 0.        , 0.        ,\n",
       "        0.        , 0.00353516, 0.        ]], dtype=float32)"
      ]
     },
     "execution_count": 153,
     "metadata": {},
     "output_type": "execute_result"
    }
   ],
   "source": [
    "\n",
    "env_kwargs = {'meta_setup': 1, 'colors_used': 1, \n",
    "            'inflate_noise': 0, 'pop_noise': 0,\n",
    "            'rew_structure': 0, 'max_steps': 5,\n",
    "            'num_balloons': 5}\n",
    "envs = make_vec_env('BartMetaEnv', env_kwargs=env_kwargs, n_envs=4)\n",
    "envs.reset()"
   ]
  }
 ],
 "metadata": {
  "kernelspec": {
   "display_name": "Python 3 (ipykernel)",
   "language": "python",
   "name": "python3"
  },
  "language_info": {
   "codemirror_mode": {
    "name": "ipython",
    "version": 3
   },
   "file_extension": ".py",
   "mimetype": "text/x-python",
   "name": "python",
   "nbconvert_exporter": "python",
   "pygments_lexer": "ipython3",
   "version": "3.9.19"
  }
 },
 "nbformat": 4,
 "nbformat_minor": 5
}
