{
 "cells": [
  {
   "cell_type": "code",
   "execution_count": 78,
   "id": "981f9403-5d6f-4f78-b336-e758d93dadbc",
   "metadata": {},
   "outputs": [],
   "source": [
    "import gym\n",
    "import numpy as np\n",
    "\n",
    "import ipywidgets as widgets\n",
    "from IPython.display import display\n",
    "from functools import partial\n",
    "\n",
    "%run ../env/gym_bart/envs/bart_env.py"
   ]
  },
  {
   "cell_type": "code",
   "execution_count": 85,
   "id": "9528394d-8973-414b-b49c-e4cff299c79b",
   "metadata": {},
   "outputs": [],
   "source": [
    "class GameDisplay:\n",
    "    def __init__(self, env):\n",
    "        self.env = env\n",
    "        env.reset()\n",
    "        self.output = widgets.Output()\n",
    "\n",
    "        if self.env.hold_to_inflate:\n",
    "            labels = ['Stop', 'Inflate', 'N/A']\n",
    "        else:\n",
    "            labels = ['Wait', 'Start/Stop', 'N/A']\n",
    "        self.buttons = []\n",
    "        for i, label in enumerate(labels):\n",
    "            button = widgets.Button(description=label)\n",
    "            button.on_click(self.generate_button_callback(i))\n",
    "            self.buttons.append(button)\n",
    "        self.widgets = [*self.buttons, self.output]\n",
    "\n",
    "    def update(self, output):\n",
    "        self.output.clear_output()\n",
    "        with self.output:\n",
    "            print(output)\n",
    "\n",
    "    def step(self, action):\n",
    "        obs, reward, done, info = self.env.step(action)\n",
    "        self.output.clear_output()\n",
    "        print(f'action {action}')\n",
    "        with self.output:\n",
    "            # print(f'Observation {obs}, Reward {reward}, Done {done}')\n",
    "            print(f'Color: {self.env.current_color}, Size: {self.env.current_size}')\n",
    "            print(f'Observation: {obs}')\n",
    "\n",
    "            # print(done)\n",
    "            if done:\n",
    "                if reward > 0:\n",
    "                    print(f'Banked {reward}')\n",
    "                else:\n",
    "                    print(f'Popped! Reward {reward}')\n",
    "                print('Env Reset')\n",
    "                obs = env.reset()\n",
    "        return obs, reward, done, info\n",
    "\n",
    "    def generate_button_callback(self, action):\n",
    "        on_click = lambda b: self.step(action)\n",
    "        return on_click\n",
    "\n",
    "    def display(self):\n",
    "        display(*self.widgets)"
   ]
  },
  {
   "cell_type": "code",
   "execution_count": 86,
   "id": "3b098d5e-e324-48ad-816f-949f81e99512",
   "metadata": {},
   "outputs": [
    {
     "data": {
      "application/vnd.jupyter.widget-view+json": {
       "model_id": "88481041469c487bbd09e78d884b176c",
       "version_major": 2,
       "version_minor": 0
      },
      "text/plain": [
       "Button(description='Wait', style=ButtonStyle())"
      ]
     },
     "metadata": {},
     "output_type": "display_data"
    },
    {
     "data": {
      "application/vnd.jupyter.widget-view+json": {
       "model_id": "aac42917b8c04352a83bc8631512bf88",
       "version_major": 2,
       "version_minor": 0
      },
      "text/plain": [
       "Button(description='Start/Stop', style=ButtonStyle())"
      ]
     },
     "metadata": {},
     "output_type": "display_data"
    },
    {
     "data": {
      "application/vnd.jupyter.widget-view+json": {
       "model_id": "5a7b94c389d14f73962507030c06644d",
       "version_major": 2,
       "version_minor": 0
      },
      "text/plain": [
       "Button(description='N/A', style=ButtonStyle())"
      ]
     },
     "metadata": {},
     "output_type": "display_data"
    },
    {
     "data": {
      "application/vnd.jupyter.widget-view+json": {
       "model_id": "5d0f3de3f68b4707a94114e2da6b89a5",
       "version_major": 2,
       "version_minor": 0
      },
      "text/plain": [
       "Output()"
      ]
     },
     "metadata": {},
     "output_type": "display_data"
    }
   ],
   "source": [
    "env = BartEnv(hold_to_inflate=False)\n",
    "out = GameDisplay(env)\n",
    "out.display()"
   ]
  }
 ],
 "metadata": {
  "kernelspec": {
   "display_name": "Python 3 (ipykernel)",
   "language": "python",
   "name": "python3"
  },
  "language_info": {
   "codemirror_mode": {
    "name": "ipython",
    "version": 3
   },
   "file_extension": ".py",
   "mimetype": "text/x-python",
   "name": "python",
   "nbconvert_exporter": "python",
   "pygments_lexer": "ipython3",
   "version": "3.9.19"
  }
 },
 "nbformat": 4,
 "nbformat_minor": 5
}
