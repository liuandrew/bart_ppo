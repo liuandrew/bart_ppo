{
 "cells": [
  {
   "cell_type": "code",
   "execution_count": 23,
   "id": "fe405a64-3bc3-4548-8f2d-e4e7324f4187",
   "metadata": {},
   "outputs": [],
   "source": [
    "import pickle\n",
    "import pandas as pd\n",
    "from datetime import datetime\n",
    "import os\n",
    "import numpy as np\n",
    "\n",
    "from pathlib import Path\n",
    "import shutil"
   ]
  },
  {
   "cell_type": "markdown",
   "id": "83307c3d-6b94-4c4c-9b2f-d503eb12bf4d",
   "metadata": {
    "tags": []
   },
   "source": [
    "# Baseline BART Environment\n",
    "\n",
    "Only active trials, both start/stop or hold, number of colors used"
   ]
  },
  {
   "cell_type": "markdown",
   "id": "b7c06915-2605-4a96-8897-125d5192fad9",
   "metadata": {},
   "source": [
    "## 1 Color"
   ]
  },
  {
   "cell_type": "code",
   "execution_count": 20,
   "id": "7663ace8-4daa-49ad-8796-e7c5f2c83b38",
   "metadata": {
    "tags": []
   },
   "outputs": [
    {
     "data": {
      "text/html": [
       "<div>\n",
       "<style scoped>\n",
       "    .dataframe tbody tr th:only-of-type {\n",
       "        vertical-align: middle;\n",
       "    }\n",
       "\n",
       "    .dataframe tbody tr th {\n",
       "        vertical-align: top;\n",
       "    }\n",
       "\n",
       "    .dataframe thead th {\n",
       "        text-align: right;\n",
       "    }\n",
       "</style>\n",
       "<table border=\"1\" class=\"dataframe\">\n",
       "  <thead>\n",
       "    <tr style=\"text-align: right;\">\n",
       "      <th></th>\n",
       "      <th>shortcut_probability</th>\n",
       "      <th>character_reset_pos</th>\n",
       "      <th>wall_colors</th>\n",
       "      <th>name</th>\n",
       "      <th>batch_size</th>\n",
       "      <th>seed</th>\n",
       "    </tr>\n",
       "  </thead>\n",
       "  <tbody>\n",
       "    <tr>\n",
       "      <th>0</th>\n",
       "      <td>0.3</td>\n",
       "      <td>3</td>\n",
       "      <td>1.5</td>\n",
       "      <td>shortcut_wc1.5p0.3_t2</td>\n",
       "      <td>64</td>\n",
       "      <td>100000</td>\n",
       "    </tr>\n",
       "    <tr>\n",
       "      <th>1</th>\n",
       "      <td>0.1</td>\n",
       "      <td>3</td>\n",
       "      <td>1.5</td>\n",
       "      <td>shortcut_wc1.5p0.1_t8</td>\n",
       "      <td>64</td>\n",
       "      <td>100001</td>\n",
       "    </tr>\n",
       "    <tr>\n",
       "      <th>2</th>\n",
       "      <td>0.3</td>\n",
       "      <td>3</td>\n",
       "      <td>1.5</td>\n",
       "      <td>shortcut_wc1.5p0.3_t6</td>\n",
       "      <td>64</td>\n",
       "      <td>100002</td>\n",
       "    </tr>\n",
       "  </tbody>\n",
       "</table>\n",
       "</div>"
      ],
      "text/plain": [
       "   shortcut_probability  character_reset_pos  wall_colors  \\\n",
       "0                   0.3                    3          1.5   \n",
       "1                   0.1                    3          1.5   \n",
       "2                   0.3                    3          1.5   \n",
       "\n",
       "                    name  batch_size    seed  \n",
       "0  shortcut_wc1.5p0.3_t2          64  100000  \n",
       "1  shortcut_wc1.5p0.1_t8          64  100001  \n",
       "2  shortcut_wc1.5p0.3_t6          64  100002  "
      ]
     },
     "execution_count": 20,
     "metadata": {},
     "output_type": "execute_result"
    }
   ],
   "source": [
    "batch = 64\n",
    "for i in range(3):\n",
    "    p = shortcut_probs[i]\n",
    "    t = ts[i]\n",
    "    exp_name = f'1color_mlp_t{t}'\n",
    "\n",
    "    env_kwargs = {}\n",
    "    row = env_kwargs.copy()\n",
    "    seed = i\n",
    "    row['name'] = exp_name\n",
    "    row['batch_size'] = batch\n",
    "    row['seed'] = seed\n",
    "\n",
    "    rows.append(row)\n",
    "    config = {\n",
    "        'exp_name': exp_name,\n",
    "        'save_name': exp_name,\n",
    "        'num_env_steps': 10000000,\n",
    "        'env_name': 'BartEnv-v0',\n",
    "        'algo': 'ppo',\n",
    "        'num_mini_batch': 8,\n",
    "        'num_processes': 64,\n",
    "        'num_steps': batch,\n",
    "\n",
    "        'checkpoint_interval': 10,\n",
    "        'save_dir': 'shortcut_wc2',\n",
    "\n",
    "        'recurrent': False,\n",
    "        'seed': seed,\n",
    "        'no_cuda': True,\n",
    "        'env_kwargs': env_kwargs,\n",
    "\n",
    "        'nn_base': 'MLPBase',\n",
    "        'nn_base_kwargs': {'hidden_size': 64},\n",
    "    }\n",
    "\n",
    "    pickle.dump(config, open('../experiment_configs/' + exp_name, 'wb'))\n",
    "\n",
    "pd.DataFrame(rows)"
   ]
  }
 ],
 "metadata": {
  "kernelspec": {
   "display_name": "Python 3 (ipykernel)",
   "language": "python",
   "name": "python3"
  },
  "language_info": {
   "codemirror_mode": {
    "name": "ipython",
    "version": 3
   },
   "file_extension": ".py",
   "mimetype": "text/x-python",
   "name": "python",
   "nbconvert_exporter": "python",
   "pygments_lexer": "ipython3",
   "version": "3.9.19"
  },
  "toc-autonumbering": true
 },
 "nbformat": 4,
 "nbformat_minor": 5
}
