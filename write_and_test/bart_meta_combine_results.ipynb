{
 "cells": [
  {
   "cell_type": "code",
   "execution_count": 1,
   "metadata": {},
   "outputs": [],
   "source": [
    "import numpy as np\n",
    "import matplotlib\n",
    "import matplotlib.pyplot as plt\n",
    "import proplot as pplt\n",
    "import seaborn as sns\n",
    "import pandas as pd\n",
    "import torch\n",
    "import gymnasium as gym\n",
    "import gym_bart\n",
    "import itertools\n",
    "from umap import UMAP\n",
    "from plotting_utils import (\n",
    "    set_rc, \n",
    "    add_abc_to_subaxes, \n",
    "    colors, \n",
    "    rgb_colors\n",
    ")\n",
    "from model_evaluation import (\n",
    "    forced_action_evaluate, \n",
    "    meta_bart_callback,\n",
    "    meta_bart_multi_callback,\n",
    "    reshape_parallel_evalu_res,\n",
    "    forced_action_evaluate_multi,\n",
    ")\n",
    "from bart_behavior_analysis import (\n",
    "    plot_1color5fsize,\n",
    "    plot_1colornfsize\n",
    ")\n",
    "from bart_single_node_responses import *\n",
    "from read_experiments import average_runs, load_exp_df\n",
    "import re\n",
    "\n",
    "from functools import partial\n",
    "import sys\n",
    "sys.path.append('../')\n",
    "from ppo.envs import make_vec_env\n",
    "import pickle\n",
    "from tqdm import tqdm\n",
    "from collections import defaultdict\n",
    "from pathlib import Path\n",
    "\n",
    "from bart_representation_analysis import *\n",
    "from bart_compress_visualize_decode import *\n",
    "from sklearn.decomposition import PCA\n",
    "from scipy.stats import ttest_ind\n",
    "\n",
    "set_rc()"
   ]
  },
  {
   "cell_type": "code",
   "execution_count": null,
   "metadata": {},
   "outputs": [],
   "source": [
    "res = pickle.load(open('data/meta_representation_results', 'rb')) # arrays\n",
    "ares = pickle.load(open('data/meta_rnn_gradients', 'rb')) # dicts\n",
    "forced_ares = pickle.load(open('data/meta_rnn_forced_gradients', 'rb')) # dicts\n",
    "node_ares = pickle.load(open('data/meta_single_node_characteristics', 'rb')) # arrays"
   ]
  },
  {
   "cell_type": "code",
   "execution_count": 3,
   "metadata": {},
   "outputs": [
    {
     "name": "stdout",
     "output_type": "stream",
     "text": [
      "res (general)\n",
      "['last_sizes' 'unpopped_sizes' 'pop_rate' 'rewards' 'values'\n",
      " 'action_probs' 'all_lens' 'all_num_balloons' 'balloon_steps'\n",
      " 'button_presses' 'dec_flow_scores' 'iterators_idxs' 'sizes' 'ramp_f1s'\n",
      " 'ramp_indiv_contribs' 'confidence_scores' 'unconfidence_scores'\n",
      " 'unconfident_points' 'step_count' 'all_decision_nodes'\n",
      " 'cluster_regressor_coefs' 'cluster_regressor_scores' 'cluster_ks'\n",
      " 'pca_regressor_coefs' 'pca_regressor_scores']\n",
      "ares (activations)\n",
      "['cluster_activations' 'cluster_labels' 'cluster_orientations'\n",
      " 'rnn_hx_influences' 'val_grads' 'action_grads' 'all_rnn_hxs'\n",
      " 'all_ep_lens' 'all_obs']\n",
      "forced_ares (meta clustering)\n",
      "['cluster_activations' 'rnn_hx_influences' 'val_grads' 'action_grads'\n",
      " 'all_rnn_hxs' 'fixprev_res' 'give_res' 'res']\n",
      "node_ares (single node character)\n",
      "['response_types' 'turning_points' 'lr_sens_bias' 'size_sensitivities'\n",
      " 'pop_sensitivities' 'reversals']\n"
     ]
    }
   ],
   "source": [
    "print('res (general)')\n",
    "print(np.array(list(res.keys())))\n",
    "print('ares (activations)')\n",
    "print(np.array(list(ares.keys())))\n",
    "print('forced_ares (meta clustering)')\n",
    "print(np.array(list(forced_ares.keys())))\n",
    "print('node_ares (single node character)')\n",
    "print(np.array(list(node_ares.keys())))"
   ]
  },
  {
   "cell_type": "markdown",
   "metadata": {},
   "source": [
    "So far, we've used the following primarily\n",
    "\n",
    "**res**\n",
    "- "
   ]
  }
 ],
 "metadata": {
  "kernelspec": {
   "display_name": "bart",
   "language": "python",
   "name": "python3"
  },
  "language_info": {
   "codemirror_mode": {
    "name": "ipython",
    "version": 3
   },
   "file_extension": ".py",
   "mimetype": "text/x-python",
   "name": "python",
   "nbconvert_exporter": "python",
   "pygments_lexer": "ipython3",
   "version": "3.9.19"
  }
 },
 "nbformat": 4,
 "nbformat_minor": 2
}
