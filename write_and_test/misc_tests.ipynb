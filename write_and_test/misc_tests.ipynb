{
 "cells": [
  {
   "cell_type": "code",
   "execution_count": 4,
   "id": "10c1290e-12c4-4ceb-b64e-368fce1a9e57",
   "metadata": {},
   "outputs": [],
   "source": [
    "import gym\n",
    "import gym_bart\n",
    "import sys\n",
    "sys.path.append('..')\n",
    "from ppo.envs import *"
   ]
  },
  {
   "cell_type": "code",
   "execution_count": null,
   "id": "12c7107c-8b63-491a-a46f-6010a3e40cfc",
   "metadata": {},
   "outputs": [],
   "source": []
  }
 ],
 "metadata": {
  "kernelspec": {
   "display_name": "Python 3 (ipykernel)",
   "language": "python",
   "name": "python3"
  },
  "language_info": {
   "codemirror_mode": {
    "name": "ipython",
    "version": 3
   },
   "file_extension": ".py",
   "mimetype": "text/x-python",
   "name": "python",
   "nbconvert_exporter": "python",
   "pygments_lexer": "ipython3",
   "version": "3.9.19"
  }
 },
 "nbformat": 4,
 "nbformat_minor": 5
}
