{
 "cells": [
  {
   "cell_type": "code",
   "execution_count": 33,
   "id": "10c1290e-12c4-4ceb-b64e-368fce1a9e57",
   "metadata": {},
   "outputs": [],
   "source": [
    "import gym\n",
    "import gym_bart\n",
    "import sys\n",
    "import pickle\n",
    "sys.path.append('..')\n",
    "from ppo.envs import *\n",
    "from stable_baselines3.common.vec_env import (DummyVecEnv, SubprocVecEnv,\n",
    "                                              VecEnvWrapper)\n",
    "from stable_baselines3.common.vec_env.vec_normalize import VecNormalize\n",
    "import torch\n"
   ]
  },
  {
   "cell_type": "code",
   "execution_count": 2,
   "id": "3180ba04-29a6-4fe4-84b6-719cad685ad0",
   "metadata": {},
   "outputs": [],
   "source": [
    "envs = make_vec_env('BartEnv-v0', n_envs=4, env_kwargs={\"colors_used\": 3}, seed=3)\n",
    "envs = VecNormalize(envs)\n",
    "a = torch.ones((4, 1), dtype=torch.int)\n",
    "b = torch.zeros((4, 1), dtype=torch.int)"
   ]
  },
  {
   "cell_type": "code",
   "execution_count": 3,
   "id": "6c54d92d-f9a9-423b-9b14-eb4fd53b573d",
   "metadata": {},
   "outputs": [
    {
     "data": {
      "text/plain": [
       "array([[ 1.0000000e+00,  0.0000000e+00, -1.0000000e+00,  0.0000000e+00,\n",
       "         0.0000000e+00,  0.0000000e+00,  1.7671926e-05,  0.0000000e+00],\n",
       "       [ 1.0000000e+00,  0.0000000e+00, -1.0000000e+00,  0.0000000e+00,\n",
       "         0.0000000e+00,  0.0000000e+00,  1.7671926e-05,  0.0000000e+00],\n",
       "       [-1.0000000e+00,  0.0000000e+00,  1.0000000e+00,  0.0000000e+00,\n",
       "         0.0000000e+00,  0.0000000e+00,  1.7671926e-05,  0.0000000e+00],\n",
       "       [-1.0000000e+00,  0.0000000e+00,  1.0000000e+00,  0.0000000e+00,\n",
       "         0.0000000e+00,  0.0000000e+00,  1.7671926e-05,  0.0000000e+00]],\n",
       "      dtype=float32)"
      ]
     },
     "execution_count": 3,
     "metadata": {},
     "output_type": "execute_result"
    }
   ],
   "source": [
    "envs.reset()"
   ]
  },
  {
   "cell_type": "code",
   "execution_count": 20,
   "id": "0100e1b6-c4e6-45b8-aa8e-234e90d909e6",
   "metadata": {},
   "outputs": [],
   "source": [
    "obs, rew, done, infos = envs.step(a)"
   ]
  },
  {
   "cell_type": "code",
   "execution_count": 32,
   "id": "9917f691-cc92-46d0-81a3-7f7e525df010",
   "metadata": {},
   "outputs": [
    {
     "data": {
      "text/plain": [
       "[{'current_color': 'orange',\n",
       "  'last_size': 0.2363977103065878,\n",
       "  'popped': False,\n",
       "  'TimeLimit.truncated': False},\n",
       " {'current_color': 'orange',\n",
       "  'last_size': 0.7740089997487066,\n",
       "  'popped': True,\n",
       "  'episode': {'r': 0.0, 'l': 16, 't': 73.345547},\n",
       "  'TimeLimit.truncated': False,\n",
       "  'terminal_observation': array([-0.26908115, -0.47314665,  0.5379447 ,  0.        ,  0.        ,\n",
       "         -1.5864427 , -0.19670238,  0.19649458], dtype=float32)},\n",
       " {'current_color': 'yellow',\n",
       "  'last_size': 0.04069163348861189,\n",
       "  'popped': False,\n",
       "  'TimeLimit.truncated': False},\n",
       " {'current_color': 'yellow',\n",
       "  'last_size': 0.13722261300851912,\n",
       "  'popped': False,\n",
       "  'TimeLimit.truncated': False}]"
      ]
     },
     "execution_count": 32,
     "metadata": {},
     "output_type": "execute_result"
    }
   ],
   "source": [
    "obs, rew, done, infos = envs.step(a)\n",
    "infos"
   ]
  },
  {
   "cell_type": "code",
   "execution_count": 75,
   "id": "4d69deb4-d450-4b84-b017-ec9f3f67e4c9",
   "metadata": {},
   "outputs": [
    {
     "data": {
      "text/plain": [
       "(4,)"
      ]
     },
     "execution_count": 75,
     "metadata": {},
     "output_type": "execute_result"
    }
   ],
   "source": [
    "rew.shape"
   ]
  },
  {
   "cell_type": "code",
   "execution_count": null,
   "id": "fd375839-be01-42b5-8bc5-52fbd91e8919",
   "metadata": {},
   "outputs": [],
   "source": []
  },
  {
   "cell_type": "code",
   "execution_count": 60,
   "id": "cc593d3c-22b3-4394-8650-7bb084811dc4",
   "metadata": {},
   "outputs": [],
   "source": [
    "from ppo.storage import RolloutStorageAux"
   ]
  },
  {
   "cell_type": "code",
   "execution_count": 80,
   "id": "3f211d41-4ab7-409e-870d-3a392477357d",
   "metadata": {},
   "outputs": [],
   "source": [
    "storage = RolloutStorageAux(64, 4, envs.observation_space.shape,\n",
    "                            envs.action_space, 0)"
   ]
  },
  {
   "cell_type": "code",
   "execution_count": 81,
   "id": "09c9f01c-9755-4357-83b5-362b16564753",
   "metadata": {},
   "outputs": [
    {
     "data": {
      "text/plain": [
       "0"
      ]
     },
     "execution_count": 81,
     "metadata": {},
     "output_type": "execute_result"
    }
   ],
   "source": [
    "storage.step"
   ]
  },
  {
   "cell_type": "code",
   "execution_count": 82,
   "id": "6cd4be32-3efe-4657-9e91-540290c92689",
   "metadata": {},
   "outputs": [
    {
     "data": {
      "text/plain": [
       "torch.Size([64, 4, 1])"
      ]
     },
     "execution_count": 82,
     "metadata": {},
     "output_type": "execute_result"
    }
   ],
   "source": [
    "storage.rewards.shape"
   ]
  },
  {
   "cell_type": "code",
   "execution_count": 83,
   "id": "e0c60d43-56ed-42dc-8dff-1e3baa2ad740",
   "metadata": {},
   "outputs": [
    {
     "name": "stderr",
     "output_type": "stream",
     "text": [
      "C:\\Users\\14and\\AppData\\Local\\Temp\\ipykernel_29752\\3357033629.py:1: UserWarning: To copy construct from a tensor, it is recommended to use sourceTensor.clone().detach() or sourceTensor.clone().detach().requires_grad_(True), rather than torch.tensor(sourceTensor).\n",
      "  rew = torch.tensor(rew, dtype=torch.float).reshape(-1, 1)\n"
     ]
    },
    {
     "data": {
      "text/plain": [
       "tensor([[0.],\n",
       "        [0.],\n",
       "        [0.],\n",
       "        [0.]])"
      ]
     },
     "execution_count": 83,
     "metadata": {},
     "output_type": "execute_result"
    }
   ],
   "source": [
    "rew = torch.tensor(rew, dtype=torch.float).reshape(-1, 1)\n",
    "storage.rewards[storage.step].copy_(rew)"
   ]
  },
  {
   "cell_type": "code",
   "execution_count": 7,
   "id": "fd060d18-04c7-48f9-b0c5-77e010e5ad5a",
   "metadata": {},
   "outputs": [
    {
     "data": {
      "text/plain": [
       "[Policy(\n",
       "   (base): FlexBaseAux(\n",
       "     (critic0): Sequential(\n",
       "       (0): Linear(in_features=8, out_features=64, bias=True)\n",
       "       (1): Tanh()\n",
       "     )\n",
       "     (actor0): Sequential(\n",
       "       (0): Linear(in_features=8, out_features=64, bias=True)\n",
       "       (1): Tanh()\n",
       "     )\n",
       "     (critic1): Sequential(\n",
       "       (0): Linear(in_features=64, out_features=64, bias=True)\n",
       "       (1): Tanh()\n",
       "     )\n",
       "     (actor1): Sequential(\n",
       "       (0): Linear(in_features=64, out_features=64, bias=True)\n",
       "       (1): Tanh()\n",
       "     )\n",
       "     (critic_head): Linear(in_features=64, out_features=1, bias=True)\n",
       "   )\n",
       "   (dist): Categorical(\n",
       "     (linear): Linear(in_features=64, out_features=2, bias=True)\n",
       "   )\n",
       " ),\n",
       " (<stable_baselines3.common.running_mean_std.RunningMeanStd at 0x1a4f2df48b0>,\n",
       "  <stable_baselines3.common.running_mean_std.RunningMeanStd at 0x1a4f2df4970>)]"
      ]
     },
     "execution_count": 7,
     "metadata": {},
     "output_type": "execute_result"
    }
   ],
   "source": [
    "torch.load('../saved_models/basics/1color_mlp_bs128_t0.pt')"
   ]
  },
  {
   "cell_type": "code",
   "execution_count": 8,
   "id": "b11baa4d",
   "metadata": {},
   "outputs": [],
   "source": [
    "env = gym.make('BartEnv-v0')"
   ]
  },
  {
   "cell_type": "code",
   "execution_count": 11,
   "id": "c766e390",
   "metadata": {},
   "outputs": [
    {
     "data": {
      "text/plain": [
       "(array([0., 1., 0., 0., 0., 0., 1., 0.], dtype=float32), {})"
      ]
     },
     "execution_count": 11,
     "metadata": {},
     "output_type": "execute_result"
    }
   ],
   "source": [
    "env.reset()"
   ]
  },
  {
   "cell_type": "code",
   "execution_count": 12,
   "id": "9c849f85",
   "metadata": {},
   "outputs": [
    {
     "name": "stderr",
     "output_type": "stream",
     "text": [
      "c:\\Users\\14and\\anaconda3\\envs\\bart\\lib\\site-packages\\gymnasium\\core.py:311: UserWarning: \u001b[33mWARN: env.get_observation to get variables from other wrappers is deprecated and will be removed in v1.0, to get this variable you can do `env.unwrapped.get_observation` for environment variables or `env.get_wrapper_attr('get_observation')` that will search the reminding wrappers.\u001b[0m\n",
      "  logger.warn(\n"
     ]
    },
    {
     "name": "stdout",
     "output_type": "stream",
     "text": [
      "6.35 µs ± 79.5 ns per loop (mean ± std. dev. of 7 runs, 100,000 loops each)\n"
     ]
    }
   ],
   "source": [
    "%%timeit\n",
    "env.get_observation()"
   ]
  },
  {
   "cell_type": "code",
   "execution_count": 13,
   "id": "86d852be",
   "metadata": {},
   "outputs": [
    {
     "name": "stdout",
     "output_type": "stream",
     "text": [
      "1.74 µs ± 11.9 ns per loop (mean ± std. dev. of 7 runs, 1,000,000 loops each)\n"
     ]
    }
   ],
   "source": [
    "%%timeit\n",
    "env.step(0)"
   ]
  },
  {
   "cell_type": "code",
   "execution_count": 19,
   "id": "cbd8904c",
   "metadata": {},
   "outputs": [
    {
     "data": {
      "text/plain": [
       "array([[ 0.99997497,  0.        , -0.99992496,  0.        ,  0.        ,\n",
       "         0.        ,  0.00353516,  0.        ],\n",
       "       [ 0.99997497,  0.        , -0.99992496,  0.        ,  0.        ,\n",
       "         0.        ,  0.00353516,  0.        ],\n",
       "       [-0.99992496,  0.        ,  0.99997497,  0.        ,  0.        ,\n",
       "         0.        ,  0.00353516,  0.        ],\n",
       "       [-0.99992496,  0.        ,  0.99997497,  0.        ,  0.        ,\n",
       "         0.        ,  0.00353516,  0.        ]], dtype=float32)"
      ]
     },
     "execution_count": 19,
     "metadata": {},
     "output_type": "execute_result"
    }
   ],
   "source": [
    "envs = make_vec_env('BartEnv-v0', n_envs=4, env_kwargs={\"colors_used\": 3}, seed=3)\n",
    "# envs = VecNormalize(envs)\n",
    "a = torch.ones((4, 1), dtype=torch.int)\n",
    "b = torch.zeros((4, 1), dtype=torch.int)\n",
    "envs.reset()"
   ]
  },
  {
   "cell_type": "code",
   "execution_count": 20,
   "id": "6a0feffb",
   "metadata": {},
   "outputs": [
    {
     "name": "stdout",
     "output_type": "stream",
     "text": [
      "483 µs ± 13.3 µs per loop (mean ± std. dev. of 7 runs, 1,000 loops each)\n"
     ]
    }
   ],
   "source": [
    "%%timeit\n",
    "envs.step(b)"
   ]
  },
  {
   "cell_type": "code",
   "execution_count": 3,
   "id": "b3c79a31",
   "metadata": {},
   "outputs": [],
   "source": [
    "from stable_baselines3.common.env_util import make_vec_env"
   ]
  },
  {
   "cell_type": "code",
   "execution_count": 31,
   "id": "37532d7a",
   "metadata": {},
   "outputs": [],
   "source": [
    "envs = make_vec_env(env_id='BartEnv-v0', n_envs=4,)\n",
    "b = torch.zeros((4, 1), dtype=torch.int)\n",
    "a = torch.ones((4, 1), dtype=torch.int)\n"
   ]
  },
  {
   "cell_type": "code",
   "execution_count": 58,
   "id": "ac88a712",
   "metadata": {},
   "outputs": [],
   "source": [
    "class SimpleVecEnv():\n",
    "    def __init__(self, env_id='BartEnv-v0', num_envs=1, env_kwargs={},\n",
    "                 ):\n",
    "        self.num_envs = num_envs\n",
    "        self.envs = [gym.make(env_id, **env_kwargs) for i in range(num_envs)]\n",
    "\n",
    "        assert len(self.envs[0].observation_space.shape) == 1\n",
    "        self.obs = np.zeros((self.num_envs, self.envs[0].observation_space.shape[0]), dtype=np.float32)\n",
    "        self.rews = np.zeros((self.num_envs), dtype=np.float32)\n",
    "        self.terms = np.full((self.num_envs), False)\n",
    "        self.infos = [{}]*self.num_envs\n",
    "        self.lens = np.zeros((self.num_envs))\n",
    "        self.rets = np.zeros((self.num_envs))\n",
    "    \n",
    "    def reset(self):\n",
    "        for i in range(self.num_envs):\n",
    "            o, info = self.envs[i].reset()\n",
    "            self.obs[i] = o\n",
    "        return self.obs.copy()\n",
    "\n",
    "    def step(self, actions):\n",
    "        assert len(actions) == self.num_envs\n",
    "        \n",
    "        self.infos = []\n",
    "        for i in range(self.num_envs):\n",
    "            o, r, term, trunc, info = self.envs[i].step(actions[i])\n",
    "            self.lens[i] += 1\n",
    "            self.rets[i] += r\n",
    "            self.obs[i] = o\n",
    "            self.terms[i] = term\n",
    "            \n",
    "            self.infos.append(info)\n",
    "            if term:\n",
    "                self.infos[i]['episode'] = {'r': self.rets[i], 'l': self.lens[i]}\n",
    "                self.infos[i]['terminal_observation'] = o\n",
    "                o, _ = self.envs[i].reset()\n",
    "                self.obs[i] = o\n",
    "        \n",
    "        return self.obs, self.rews, self.terms, self.infos\n",
    "            "
   ]
  },
  {
   "cell_type": "code",
   "execution_count": 59,
   "id": "8fef56e3",
   "metadata": {},
   "outputs": [],
   "source": [
    "envs2 = SimpleVecEnv(num_envs=4)"
   ]
  },
  {
   "cell_type": "code",
   "execution_count": 38,
   "id": "537b548c",
   "metadata": {},
   "outputs": [],
   "source": [
    "from read_experiments import load_exp_df, print_runs\n",
    "df = load_exp_df('basics/3color_test', trial_num=0)"
   ]
  },
  {
   "cell_type": "code",
   "execution_count": 40,
   "id": "0d0000fc",
   "metadata": {},
   "outputs": [
    {
     "data": {
      "text/plain": [
       "array(['charts/episodic_return', 'charts/episodic_length',\n",
       "       'charts/episodic_bonus_rewards', 'bart/color', 'bart/size',\n",
       "       'bart/popped', 'charts/learning_rate', 'losses/value_loss',\n",
       "       'losses/policy_loss', 'losses/auxiliary_loss', 'losses/entropy',\n",
       "       'losses/approx_kl', 'losses/clipfrac', 'charts/SPS'], dtype=object)"
      ]
     },
     "execution_count": 40,
     "metadata": {},
     "output_type": "execute_result"
    }
   ],
   "source": [
    "df['metric'].unique()"
   ]
  },
  {
   "cell_type": "code",
   "execution_count": 42,
   "id": "d3b313d6",
   "metadata": {},
   "outputs": [
    {
     "data": {
      "text/plain": [
       "array([0., 1.])"
      ]
     },
     "execution_count": 42,
     "metadata": {},
     "output_type": "execute_result"
    }
   ],
   "source": [
    "df[df['metric'] == 'bart/popped']['value'].unique()"
   ]
  }
 ],
 "metadata": {
  "kernelspec": {
   "display_name": "bart",
   "language": "python",
   "name": "python3"
  },
  "language_info": {
   "codemirror_mode": {
    "name": "ipython",
    "version": 3
   },
   "file_extension": ".py",
   "mimetype": "text/x-python",
   "name": "python",
   "nbconvert_exporter": "python",
   "pygments_lexer": "ipython3",
   "version": "3.9.19"
  },
  "vscode": {
   "interpreter": {
    "hash": "4643bb0d2843b9ed86e0b51b62b6edc6fd8f24b9561a968a0ed26bc3fd5e04b6"
   }
  }
 },
 "nbformat": 4,
 "nbformat_minor": 5
}
