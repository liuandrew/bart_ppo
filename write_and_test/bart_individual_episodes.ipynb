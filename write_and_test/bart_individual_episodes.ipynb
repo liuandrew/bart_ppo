{
 "cells": [
  {
   "cell_type": "code",
   "execution_count": 17,
   "metadata": {},
   "outputs": [],
   "source": [
    "import numpy as np\n",
    "import matplotlib.pyplot as plt\n",
    "import proplot as pplt\n",
    "import torch\n",
    "import gymnasium as gym\n",
    "import gym_bart\n",
    "from plotting_utils import (\n",
    "    set_rc, \n",
    "    add_abc_to_subaxes, \n",
    "    colors, \n",
    "    rgb_colors\n",
    ")\n",
    "from model_evaluation import forced_action_evaluate as evalu\n",
    "\n",
    "import sys\n",
    "sys.path.append('../')\n",
    "from ppo.envs import make_vec_env"
   ]
  },
  {
   "cell_type": "code",
   "execution_count": 18,
   "metadata": {},
   "outputs": [],
   "source": [
    "model, (obs_rms, ret_rms) = torch.load('../saved_checkpoints/behav/behav_t0/50.pt')\n",
    "envs = make_vec_env(\"BartEnv-v0\")"
   ]
  },
  {
   "cell_type": "code",
   "execution_count": 21,
   "metadata": {},
   "outputs": [
    {
     "data": {
      "text/plain": [
       "(array([[ 0.        ,  0.        ,  0.00499969,  0.        ,  0.        ,\n",
       "          0.98022395, -0.99985003,  0.99995   ]], dtype=float32),\n",
       " array([0.], dtype=float32),\n",
       " array([False]),\n",
       " [{'current_color': 2,\n",
       "   'last_size': 0.06996683054520714,\n",
       "   'popped': False,\n",
       "   'inflate_delay': 0,\n",
       "   'balloon_limit': 0.7967095004639595,\n",
       "   'TimeLimit.truncated': False}])"
      ]
     },
     "execution_count": 21,
     "metadata": {},
     "output_type": "execute_result"
    }
   ],
   "source": [
    "envs.reset()\n",
    "envs.step(torch.tensor([[1]]))"
   ]
  },
  {
   "cell_type": "code",
   "execution_count": 23,
   "metadata": {},
   "outputs": [],
   "source": [
    "%run model_evaluation\n",
    "evalu = forced_action_evaluate\n",
    "res = evalu(model, obs_rms, env_name=\"BartEnv-v0\")"
   ]
  },
  {
   "cell_type": "code",
   "execution_count": 25,
   "metadata": {},
   "outputs": [
    {
     "data": {
      "text/plain": [
       "dict_keys(['obs', 'actions', 'action_log_probs', 'action_probs', 'rewards', 'rnn_hxs', 'dones', 'masks', 'envs', 'data', 'activations', 'values', 'actor_features', 'auxiliary_preds', 'auxiliary_truths'])"
      ]
     },
     "execution_count": 25,
     "metadata": {},
     "output_type": "execute_result"
    }
   ],
   "source": [
    "res.keys()"
   ]
  },
  {
   "cell_type": "code",
   "execution_count": null,
   "metadata": {},
   "outputs": [],
   "source": []
  },
  {
   "cell_type": "code",
   "execution_count": 12,
   "metadata": {},
   "outputs": [],
   "source": [
    "\n",
    "import sys\n",
    "sys.path.insert(0, '..')\n",
    "from ppo.envs import make_vec_env\n",
    "\n",
    "env_name = \"BartEnv-v0\"\n",
    "num_processes = 1\n",
    "seed = 0\n",
    "env_kwargs = {}\n",
    "auxiliary_tasks = []\n",
    "auxiliary_task_args = []\n",
    "normalize = True\n",
    "device = torch.device(\"cpu\")\n",
    "\n",
    "\n",
    "envs = make_vec_env(env_name, \n",
    "                        seed=seed, \n",
    "                        n_envs=num_processes,\n",
    "                        env_kwargs=env_kwargs,\n",
    "                        auxiliary_tasks=auxiliary_tasks,\n",
    "                        auxiliary_task_args=auxiliary_task_args,\n",
    "                        normalize=normalize,\n",
    "                        dummy=True,)\n",
    "\n",
    "if normalize:\n",
    "    envs.training = False\n",
    "if obs_rms is not None:\n",
    "    envs.obs_rms = obs_rms\n",
    "\n",
    "eval_episode_rewards = []\n",
    "\n",
    "all_obs = []\n",
    "all_actions = []\n",
    "all_action_log_probs = []\n",
    "all_action_probs = []\n",
    "all_rewards = []\n",
    "all_rnn_hxs = []\n",
    "all_dones = []\n",
    "all_masks = []\n",
    "all_activations = []\n",
    "all_values = []\n",
    "all_actor_features = []\n",
    "all_auxiliary_preds = []\n",
    "all_auxiliary_truths = []\n",
    "data = {}\n",
    "\n",
    "ep_obs = []\n",
    "ep_actions = []\n",
    "ep_action_log_probs = []\n",
    "ep_action_probs = []\n",
    "ep_rewards = []\n",
    "ep_rnn_hxs = []\n",
    "ep_dones = []\n",
    "ep_values = []\n",
    "ep_masks = []\n",
    "ep_actor_features = []\n",
    "\n",
    "ep_auxiliary_preds = []\n",
    "ep_activations = []\n",
    "ep_auxiliary_truths = []\n",
    "\n",
    "\n",
    "obs = envs.reset()\n",
    "rnn_hxs = torch.zeros(\n",
    "    num_processes, model.recurrent_hidden_state_size, device=device)\n",
    "masks = torch.zeros(num_processes, 1, device=device)\n",
    "\n",
    "step = 0\n",
    "ep_obs.append(obs)\n",
    "ep_rnn_hxs.append(rnn_hxs)\n",
    "with torch.no_grad():\n",
    "    outputs = model.act(torch.tensor(obs), rnn_hxs, \n",
    "                            masks, deterministic=True,\n",
    "                            with_activations=True)"
   ]
  }
 ],
 "metadata": {
  "kernelspec": {
   "display_name": "bart",
   "language": "python",
   "name": "python3"
  },
  "language_info": {
   "codemirror_mode": {
    "name": "ipython",
    "version": 3
   },
   "file_extension": ".py",
   "mimetype": "text/x-python",
   "name": "python",
   "nbconvert_exporter": "python",
   "pygments_lexer": "ipython3",
   "version": "3.9.19"
  }
 },
 "nbformat": 4,
 "nbformat_minor": 2
}
